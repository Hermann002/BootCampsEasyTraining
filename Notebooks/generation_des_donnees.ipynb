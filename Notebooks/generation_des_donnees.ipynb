{
 "cells": [
  {
   "cell_type": "code",
   "execution_count": 4,
   "metadata": {},
   "outputs": [],
   "source": [
    "from faker import Faker\n",
    "import pandas as pd\n",
    "import numpy as np\n",
    "import matplotlib.pyplot as plt\n",
    "import seaborn as sns\n",
    "from uuid import uuid4\n",
    "from datetime import datetime, timedelta\n",
    "\n",
    "%matplotlib inline"
   ]
  },
  {
   "cell_type": "code",
   "execution_count": 19,
   "metadata": {},
   "outputs": [],
   "source": [
    "#intervalle de date d'abonnement\n",
    "start_date = datetime(2022, 1, 1, 00, 00)\n",
    "end_date = datetime(2024, 4, 30, 00, 00)\n",
    "\n",
    "\n",
    "type_abonnement_list = ['Amazon Prime Annuel', 'Amazon Prime mensuel', 'Amazon Prime Uniquement', 'Abonnement Etudiant', 'Prime Video Channels']"
   ]
  },
  {
   "cell_type": "code",
   "execution_count": 16,
   "metadata": {},
   "outputs": [
    {
     "data": {
      "text/plain": [
       "'6fa915b2-513f-4b33-beb7-ebc506a1893e'"
      ]
     },
     "execution_count": 16,
     "metadata": {},
     "output_type": "execute_result"
    }
   ],
   "source": [
    "def generate_random_id():\n",
    "    return str(uuid4())"
   ]
  },
  {
   "cell_type": "markdown",
   "metadata": {},
   "source": [
    "## Table User"
   ]
  },
  {
   "cell_type": "code",
   "execution_count": 27,
   "metadata": {},
   "outputs": [
    {
     "name": "stderr",
     "output_type": "stream",
     "text": [
      "100%|██████████| 50/50 [00:00<00:00, 4542.73it/s]\n"
     ]
    },
    {
     "data": {
      "text/html": [
       "<div>\n",
       "<style scoped>\n",
       "    .dataframe tbody tr th:only-of-type {\n",
       "        vertical-align: middle;\n",
       "    }\n",
       "\n",
       "    .dataframe tbody tr th {\n",
       "        vertical-align: top;\n",
       "    }\n",
       "\n",
       "    .dataframe thead th {\n",
       "        text-align: right;\n",
       "    }\n",
       "</style>\n",
       "<table border=\"1\" class=\"dataframe\">\n",
       "  <thead>\n",
       "    <tr style=\"text-align: right;\">\n",
       "      <th></th>\n",
       "      <th>user_id</th>\n",
       "      <th>type_abonnement</th>\n",
       "      <th>date_abonnement</th>\n",
       "    </tr>\n",
       "  </thead>\n",
       "  <tbody>\n",
       "    <tr>\n",
       "      <th>0</th>\n",
       "      <td>ebc313bd-afea-4c19-b56b-917adb4dbde1</td>\n",
       "      <td>Amazon Prime Annuel</td>\n",
       "      <td>2022-01-15</td>\n",
       "    </tr>\n",
       "    <tr>\n",
       "      <th>1</th>\n",
       "      <td>9a6e05f1-c615-4469-9523-9da9a8cbe16a</td>\n",
       "      <td>Amazon Prime Annuel</td>\n",
       "      <td>2023-02-09</td>\n",
       "    </tr>\n",
       "    <tr>\n",
       "      <th>2</th>\n",
       "      <td>3ba15684-7f8f-4690-9de6-b7895450c99d</td>\n",
       "      <td>Amazon Prime Annuel</td>\n",
       "      <td>2022-03-03</td>\n",
       "    </tr>\n",
       "    <tr>\n",
       "      <th>3</th>\n",
       "      <td>802985bc-a614-4d2a-92e7-cc381082dbe5</td>\n",
       "      <td>Abonnement Etudiant</td>\n",
       "      <td>2024-01-13</td>\n",
       "    </tr>\n",
       "    <tr>\n",
       "      <th>4</th>\n",
       "      <td>248abcef-72cb-4ff1-b7f2-ac72755d64b5</td>\n",
       "      <td>Amazon Prime Uniquement</td>\n",
       "      <td>2023-09-22</td>\n",
       "    </tr>\n",
       "  </tbody>\n",
       "</table>\n",
       "</div>"
      ],
      "text/plain": [
       "                                user_id          type_abonnement  \\\n",
       "0  ebc313bd-afea-4c19-b56b-917adb4dbde1      Amazon Prime Annuel   \n",
       "1  9a6e05f1-c615-4469-9523-9da9a8cbe16a      Amazon Prime Annuel   \n",
       "2  3ba15684-7f8f-4690-9de6-b7895450c99d      Amazon Prime Annuel   \n",
       "3  802985bc-a614-4d2a-92e7-cc381082dbe5      Abonnement Etudiant   \n",
       "4  248abcef-72cb-4ff1-b7f2-ac72755d64b5  Amazon Prime Uniquement   \n",
       "\n",
       "  date_abonnement  \n",
       "0      2022-01-15  \n",
       "1      2023-02-09  \n",
       "2      2022-03-03  \n",
       "3      2024-01-13  \n",
       "4      2023-09-22  "
      ]
     },
     "execution_count": 27,
     "metadata": {},
     "output_type": "execute_result"
    }
   ],
   "source": [
    "from tqdm import tqdm\n",
    "import random\n",
    "\n",
    "fake = Faker()\n",
    "\n",
    "users_list = []\n",
    "for i in tqdm(range(50)):\n",
    "    user_id = generate_random_id()\n",
    "    type_abonnement = random.choices(type_abonnement_list, weights=[0.55, 0.2, 0.1, 0.05, 0.1])[0]\n",
    "    date_ = fake.date_between(start_date, end_date)\n",
    "    date_abonnement = date_.strftime('%Y-%m-%d')\n",
    "    users_dict = {\n",
    "        \"user_id\": user_id,\n",
    "        \"type_abonnement\": type_abonnement,\n",
    "        \"date_abonnement\": date_abonnement\n",
    "    }\n",
    "    users_list.append(users_dict)\n",
    "\n",
    "users_df = pd.DataFrame(users_list)\n",
    "users_df.head()"
   ]
  },
  {
   "cell_type": "code",
   "execution_count": 28,
   "metadata": {},
   "outputs": [],
   "source": [
    "users_df.to_csv(\"../Datas/users.csv\")"
   ]
  },
  {
   "cell_type": "markdown",
   "metadata": {},
   "source": [
    "## Table séries"
   ]
  },
  {
   "cell_type": "code",
   "execution_count": 38,
   "metadata": {},
   "outputs": [
    {
     "name": "stderr",
     "output_type": "stream",
     "text": [
      "100%|██████████| 20/20 [00:00<00:00, 952.32it/s]\n"
     ]
    },
    {
     "data": {
      "text/html": [
       "<div>\n",
       "<style scoped>\n",
       "    .dataframe tbody tr th:only-of-type {\n",
       "        vertical-align: middle;\n",
       "    }\n",
       "\n",
       "    .dataframe tbody tr th {\n",
       "        vertical-align: top;\n",
       "    }\n",
       "\n",
       "    .dataframe thead th {\n",
       "        text-align: right;\n",
       "    }\n",
       "</style>\n",
       "<table border=\"1\" class=\"dataframe\">\n",
       "  <thead>\n",
       "    <tr style=\"text-align: right;\">\n",
       "      <th></th>\n",
       "      <th>serie_id</th>\n",
       "      <th>titre</th>\n",
       "      <th>categorie</th>\n",
       "      <th>nbr_episodes</th>\n",
       "      <th>date_expiration</th>\n",
       "      <th>description</th>\n",
       "    </tr>\n",
       "  </thead>\n",
       "  <tbody>\n",
       "    <tr>\n",
       "      <th>0</th>\n",
       "      <td>d4ce9122-24cb-4001-b14a-a4c9650b3c31</td>\n",
       "      <td>people Jordan</td>\n",
       "      <td>Horreur</td>\n",
       "      <td>20</td>\n",
       "      <td>2024-05-08</td>\n",
       "      <td>Quality agreement energy magazine. Policy ahea...</td>\n",
       "    </tr>\n",
       "    <tr>\n",
       "      <th>1</th>\n",
       "      <td>2a7ecf3d-ea1c-489e-954c-4fe3be55cbca</td>\n",
       "      <td>region David</td>\n",
       "      <td>Science-fiction</td>\n",
       "      <td>37</td>\n",
       "      <td>2024-06-24</td>\n",
       "      <td>Rate edge far former there prevent. Moment cou...</td>\n",
       "    </tr>\n",
       "    <tr>\n",
       "      <th>2</th>\n",
       "      <td>9501fb08-a53f-473b-af04-f8be7a3e0d35</td>\n",
       "      <td>reality Gabriela</td>\n",
       "      <td>Horreur</td>\n",
       "      <td>32</td>\n",
       "      <td>2024-07-03</td>\n",
       "      <td>Difficult reduce whatever national. Teacher re...</td>\n",
       "    </tr>\n",
       "    <tr>\n",
       "      <th>3</th>\n",
       "      <td>ca4e06e6-efb4-4c03-9207-996e88efbabb</td>\n",
       "      <td>such Robert</td>\n",
       "      <td>Science-fiction</td>\n",
       "      <td>20</td>\n",
       "      <td>2024-06-01</td>\n",
       "      <td>Ready small record half. Myself day always arg...</td>\n",
       "    </tr>\n",
       "    <tr>\n",
       "      <th>4</th>\n",
       "      <td>45055d6b-3f68-4642-aab8-791f83767b33</td>\n",
       "      <td>quite Elizabeth</td>\n",
       "      <td>Documentaire</td>\n",
       "      <td>22</td>\n",
       "      <td>2024-05-21</td>\n",
       "      <td>Whether all hit action discover. Stop see diff...</td>\n",
       "    </tr>\n",
       "  </tbody>\n",
       "</table>\n",
       "</div>"
      ],
      "text/plain": [
       "                               serie_id             titre        categorie  \\\n",
       "0  d4ce9122-24cb-4001-b14a-a4c9650b3c31     people Jordan          Horreur   \n",
       "1  2a7ecf3d-ea1c-489e-954c-4fe3be55cbca      region David  Science-fiction   \n",
       "2  9501fb08-a53f-473b-af04-f8be7a3e0d35  reality Gabriela          Horreur   \n",
       "3  ca4e06e6-efb4-4c03-9207-996e88efbabb       such Robert  Science-fiction   \n",
       "4  45055d6b-3f68-4642-aab8-791f83767b33   quite Elizabeth     Documentaire   \n",
       "\n",
       "   nbr_episodes date_expiration  \\\n",
       "0            20      2024-05-08   \n",
       "1            37      2024-06-24   \n",
       "2            32      2024-07-03   \n",
       "3            20      2024-06-01   \n",
       "4            22      2024-05-21   \n",
       "\n",
       "                                         description  \n",
       "0  Quality agreement energy magazine. Policy ahea...  \n",
       "1  Rate edge far former there prevent. Moment cou...  \n",
       "2  Difficult reduce whatever national. Teacher re...  \n",
       "3  Ready small record half. Myself day always arg...  \n",
       "4  Whether all hit action discover. Stop see diff...  "
      ]
     },
     "execution_count": 38,
     "metadata": {},
     "output_type": "execute_result"
    }
   ],
   "source": [
    "categorie_list = ['Drame', 'Comedie', 'Action', 'Science-fiction', 'Fantastique', 'Horreur', 'Thriller', 'Romance', 'Documentaire']\n",
    "series_list = []\n",
    "for i in tqdm(range(20)):\n",
    "    serie_id = generate_random_id()\n",
    "    titre = f\"{fake.word()} {fake.first_name()}\"\n",
    "    categorie = random.choice(categorie_list)\n",
    "    nbr_episodes = random.choice(range(10, 40))\n",
    "    date_expiration = fake.date_between(datetime(2024, 4, 30, 00, 00), datetime(2024, 8, 1, 00, 00))\n",
    "    description = fake.text()\n",
    "\n",
    "    series_dict = {\n",
    "        'serie_id': serie_id,\n",
    "        'titre' : titre,\n",
    "        'categorie' : categorie,\n",
    "        'nbr_episodes': nbr_episodes,\n",
    "        'date_expiration': date_expiration,\n",
    "        'description' : description\n",
    "    }\n",
    "\n",
    "    series_list.append(series_dict)\n",
    "\n",
    "series_df = pd.DataFrame(series_list)\n",
    "series_df.head()"
   ]
  },
  {
   "cell_type": "code",
   "execution_count": 39,
   "metadata": {},
   "outputs": [],
   "source": [
    "series_df.to_csv(\"../Datas/series.csv\")"
   ]
  },
  {
   "cell_type": "markdown",
   "metadata": {},
   "source": [
    "## Table épisodes"
   ]
  },
  {
   "cell_type": "code",
   "execution_count": 40,
   "metadata": {},
   "outputs": [
    {
     "name": "stderr",
     "output_type": "stream",
     "text": [
      "100%|██████████| 500/500 [00:00<00:00, 38240.59it/s]\n"
     ]
    },
    {
     "data": {
      "text/html": [
       "<div>\n",
       "<style scoped>\n",
       "    .dataframe tbody tr th:only-of-type {\n",
       "        vertical-align: middle;\n",
       "    }\n",
       "\n",
       "    .dataframe tbody tr th {\n",
       "        vertical-align: top;\n",
       "    }\n",
       "\n",
       "    .dataframe thead th {\n",
       "        text-align: right;\n",
       "    }\n",
       "</style>\n",
       "<table border=\"1\" class=\"dataframe\">\n",
       "  <thead>\n",
       "    <tr style=\"text-align: right;\">\n",
       "      <th></th>\n",
       "      <th>episode_id</th>\n",
       "      <th>serie_id</th>\n",
       "      <th>n_secondes</th>\n",
       "    </tr>\n",
       "  </thead>\n",
       "  <tbody>\n",
       "    <tr>\n",
       "      <th>0</th>\n",
       "      <td>6f01a457-beb6-49a6-8091-5367d3427226</td>\n",
       "      <td>2cba9264-16ab-415f-a0ae-b5e1db3f4918</td>\n",
       "      <td>1263</td>\n",
       "    </tr>\n",
       "    <tr>\n",
       "      <th>1</th>\n",
       "      <td>0bb07049-523d-4d48-b431-aa54c1143158</td>\n",
       "      <td>222f67ec-71fe-4d39-b246-3b9461cb66f2</td>\n",
       "      <td>1456</td>\n",
       "    </tr>\n",
       "    <tr>\n",
       "      <th>2</th>\n",
       "      <td>cda0c026-1aeb-4d63-94ae-e306931e4757</td>\n",
       "      <td>2cba9264-16ab-415f-a0ae-b5e1db3f4918</td>\n",
       "      <td>1428</td>\n",
       "    </tr>\n",
       "    <tr>\n",
       "      <th>3</th>\n",
       "      <td>50b7aa85-28fa-4ace-b2bf-5dbad83e4a7a</td>\n",
       "      <td>c76e89c7-9beb-4400-b5dd-300c2e398fda</td>\n",
       "      <td>2089</td>\n",
       "    </tr>\n",
       "    <tr>\n",
       "      <th>4</th>\n",
       "      <td>1b425cc1-5251-43de-ac00-7fd29e2ca839</td>\n",
       "      <td>d7539ef0-6130-44c8-81f7-4502f2c6981c</td>\n",
       "      <td>1954</td>\n",
       "    </tr>\n",
       "  </tbody>\n",
       "</table>\n",
       "</div>"
      ],
      "text/plain": [
       "                             episode_id                              serie_id  \\\n",
       "0  6f01a457-beb6-49a6-8091-5367d3427226  2cba9264-16ab-415f-a0ae-b5e1db3f4918   \n",
       "1  0bb07049-523d-4d48-b431-aa54c1143158  222f67ec-71fe-4d39-b246-3b9461cb66f2   \n",
       "2  cda0c026-1aeb-4d63-94ae-e306931e4757  2cba9264-16ab-415f-a0ae-b5e1db3f4918   \n",
       "3  50b7aa85-28fa-4ace-b2bf-5dbad83e4a7a  c76e89c7-9beb-4400-b5dd-300c2e398fda   \n",
       "4  1b425cc1-5251-43de-ac00-7fd29e2ca839  d7539ef0-6130-44c8-81f7-4502f2c6981c   \n",
       "\n",
       "   n_secondes  \n",
       "0        1263  \n",
       "1        1456  \n",
       "2        1428  \n",
       "3        2089  \n",
       "4        1954  "
      ]
     },
     "execution_count": 40,
     "metadata": {},
     "output_type": "execute_result"
    }
   ],
   "source": [
    "series_id_list = list(series_df.serie_id)\n",
    "\n",
    "episodes_list = []\n",
    "for i in tqdm(range(500)):\n",
    "    episode_id = generate_random_id()\n",
    "    serie_id = random.choice(series_id_list)\n",
    "    n_secondes = random.choice(range(1200, 2400))\n",
    "\n",
    "    episodes_dict = {\n",
    "        \"episode_id\": episode_id,\n",
    "        \"serie_id\": serie_id,\n",
    "        \"n_secondes\": n_secondes\n",
    "    }\n",
    "\n",
    "    episodes_list.append(episodes_dict)\n",
    "\n",
    "episodes_df = pd.DataFrame(episodes_list)\n",
    "episodes_df.head()"
   ]
  },
  {
   "cell_type": "code",
   "execution_count": 41,
   "metadata": {},
   "outputs": [],
   "source": [
    "episodes_df.to_csv(\"../Datas/episodes.csv\")"
   ]
  },
  {
   "cell_type": "markdown",
   "metadata": {},
   "source": [
    "## Table des historiques visites"
   ]
  },
  {
   "cell_type": "code",
   "execution_count": 63,
   "metadata": {},
   "outputs": [
    {
     "data": {
      "text/html": [
       "<div>\n",
       "<style scoped>\n",
       "    .dataframe tbody tr th:only-of-type {\n",
       "        vertical-align: middle;\n",
       "    }\n",
       "\n",
       "    .dataframe tbody tr th {\n",
       "        vertical-align: top;\n",
       "    }\n",
       "\n",
       "    .dataframe thead th {\n",
       "        text-align: right;\n",
       "    }\n",
       "</style>\n",
       "<table border=\"1\" class=\"dataframe\">\n",
       "  <thead>\n",
       "    <tr style=\"text-align: right;\">\n",
       "      <th></th>\n",
       "      <th>visite_id</th>\n",
       "      <th>episode_id</th>\n",
       "      <th>serie_id</th>\n",
       "      <th>user_id</th>\n",
       "      <th>n_secondes</th>\n",
       "    </tr>\n",
       "  </thead>\n",
       "  <tbody>\n",
       "    <tr>\n",
       "      <th>0</th>\n",
       "      <td>6d3fa172-137f-4bde-8932-bd9dca2472a7</td>\n",
       "      <td>20087097-6a10-4960-b539-bd93950407d4</td>\n",
       "      <td>92757080-d94a-4f4c-97ad-89ce5e58cc86</td>\n",
       "      <td>248abcef-72cb-4ff1-b7f2-ac72755d64b5</td>\n",
       "      <td>956</td>\n",
       "    </tr>\n",
       "    <tr>\n",
       "      <th>1</th>\n",
       "      <td>a35d65a6-7f27-4bf7-a51b-80ddea5696cd</td>\n",
       "      <td>bd204e0b-d80a-40cb-9f3a-6b19bb5f628d</td>\n",
       "      <td>00bbb420-ca71-423e-8229-0c6f0c714164</td>\n",
       "      <td>09cc234c-8167-4fe6-9c2c-473c4c25e719</td>\n",
       "      <td>80</td>\n",
       "    </tr>\n",
       "    <tr>\n",
       "      <th>2</th>\n",
       "      <td>cc339140-2eb2-4246-8ec4-d8ec05726ee4</td>\n",
       "      <td>df1c0f54-6980-4a44-bf5c-0df6110906a8</td>\n",
       "      <td>2cba9264-16ab-415f-a0ae-b5e1db3f4918</td>\n",
       "      <td>666bee46-686a-455b-8d38-f8908f62a3aa</td>\n",
       "      <td>125</td>\n",
       "    </tr>\n",
       "    <tr>\n",
       "      <th>3</th>\n",
       "      <td>72396d5c-e7b7-4b2c-bcc4-812dc5ffbdf9</td>\n",
       "      <td>83c53116-88b4-4a2c-bf8a-469d4f513027</td>\n",
       "      <td>af8df0dc-7761-45e1-821a-7e55d57e9bd8</td>\n",
       "      <td>facc30c9-d01a-4526-b601-90c91c5e89fa</td>\n",
       "      <td>894</td>\n",
       "    </tr>\n",
       "    <tr>\n",
       "      <th>4</th>\n",
       "      <td>28af17bd-369a-403f-9dad-c9573e41b9ab</td>\n",
       "      <td>4261f14c-e0c1-4070-ae65-5ce173018fe3</td>\n",
       "      <td>c76e89c7-9beb-4400-b5dd-300c2e398fda</td>\n",
       "      <td>802985bc-a614-4d2a-92e7-cc381082dbe5</td>\n",
       "      <td>1254</td>\n",
       "    </tr>\n",
       "  </tbody>\n",
       "</table>\n",
       "</div>"
      ],
      "text/plain": [
       "                              visite_id                            episode_id  \\\n",
       "0  6d3fa172-137f-4bde-8932-bd9dca2472a7  20087097-6a10-4960-b539-bd93950407d4   \n",
       "1  a35d65a6-7f27-4bf7-a51b-80ddea5696cd  bd204e0b-d80a-40cb-9f3a-6b19bb5f628d   \n",
       "2  cc339140-2eb2-4246-8ec4-d8ec05726ee4  df1c0f54-6980-4a44-bf5c-0df6110906a8   \n",
       "3  72396d5c-e7b7-4b2c-bcc4-812dc5ffbdf9  83c53116-88b4-4a2c-bf8a-469d4f513027   \n",
       "4  28af17bd-369a-403f-9dad-c9573e41b9ab  4261f14c-e0c1-4070-ae65-5ce173018fe3   \n",
       "\n",
       "                               serie_id                               user_id  \\\n",
       "0  92757080-d94a-4f4c-97ad-89ce5e58cc86  248abcef-72cb-4ff1-b7f2-ac72755d64b5   \n",
       "1  00bbb420-ca71-423e-8229-0c6f0c714164  09cc234c-8167-4fe6-9c2c-473c4c25e719   \n",
       "2  2cba9264-16ab-415f-a0ae-b5e1db3f4918  666bee46-686a-455b-8d38-f8908f62a3aa   \n",
       "3  af8df0dc-7761-45e1-821a-7e55d57e9bd8  facc30c9-d01a-4526-b601-90c91c5e89fa   \n",
       "4  c76e89c7-9beb-4400-b5dd-300c2e398fda  802985bc-a614-4d2a-92e7-cc381082dbe5   \n",
       "\n",
       "   n_secondes  \n",
       "0         956  \n",
       "1          80  \n",
       "2         125  \n",
       "3         894  \n",
       "4        1254  "
      ]
     },
     "execution_count": 63,
     "metadata": {},
     "output_type": "execute_result"
    }
   ],
   "source": [
    "episode_id_list = list(episodes_df.episode_id)\n",
    "users_id_list = list(users_df.user_id)\n",
    "visites_list = []\n",
    "for i in range(500):\n",
    "    visite_id = generate_random_id()\n",
    "    episode_id = random.choice(episode_id_list)\n",
    "    serie_id = episodes_df.loc[episodes_df.episode_id == episode_id, 'serie_id'].values[0]\n",
    "    users_id = random.choice(users_id_list)\n",
    "    n_secondes = random.choice(range(episodes_df.loc[episodes_df.episode_id == episode_id, 'n_secondes'].values[0]))\n",
    "\n",
    "    visites_dict = {\n",
    "        \"visite_id\" : visite_id,\n",
    "        \"episode_id\" : episode_id,\n",
    "        \"serie_id\" : serie_id,\n",
    "        \"user_id\" : users_id,\n",
    "        \"n_secondes\" : n_secondes\n",
    "    }\n",
    "    visites_list.append(visites_dict)\n",
    "\n",
    "visites_df = pd.DataFrame(visites_list)\n",
    "visites_df.head()"
   ]
  },
  {
   "cell_type": "code",
   "execution_count": 64,
   "metadata": {},
   "outputs": [],
   "source": [
    "visites_df.to_csv(\"../Datas/visites.csv\")"
   ]
  }
 ],
 "metadata": {
  "kernelspec": {
   "display_name": "base",
   "language": "python",
   "name": "python3"
  },
  "language_info": {
   "codemirror_mode": {
    "name": "ipython",
    "version": 3
   },
   "file_extension": ".py",
   "mimetype": "text/x-python",
   "name": "python",
   "nbconvert_exporter": "python",
   "pygments_lexer": "ipython3",
   "version": "3.11.8"
  }
 },
 "nbformat": 4,
 "nbformat_minor": 2
}
